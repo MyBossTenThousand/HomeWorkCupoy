{
 "cells": [
  {
   "cell_type": "code",
   "execution_count": 1,
   "metadata": {},
   "outputs": [
    {
     "name": "stdout",
     "output_type": "stream",
     "text": [
      "國家    Taiwan\n",
      "人口       982\n",
      "Name: 0, dtype: object\n",
      "          國家   人口\n",
      "0     Taiwan  982\n",
      "1      Japan  217\n",
      "2      Canda  543\n",
      "3      Egypt  936\n",
      "4       Cuba  686\n",
      "5     France  238\n",
      "6      Gabon  359\n",
      "7     Greece  530\n",
      "8  Hong Kong  391\n",
      "9      Italy  801\n"
     ]
    }
   ],
   "source": [
    "import pandas as pd\n",
    "import numpy as np\n",
    "population  = np.random.randint(100,1000,size = 10)\n",
    "list1 = ['Taiwan','Japan','Canda','Egypt','Cuba','France','Gabon','Greece','Hong Kong','Italy']\n",
    "population = np.random.randint(100,1000,size = 10)\n",
    "data = {'國家':list1,\n",
    "        '人口':population}\n",
    "x = np.max(population)\n",
    "index = np.where(population == x)\n",
    "data = pd.DataFrame(data)\n",
    "\n",
    "print(data.iloc[index[0][0],:])\n",
    "\n",
    "print(data)"
   ]
  },
  {
   "cell_type": "code",
   "execution_count": null,
   "metadata": {},
   "outputs": [],
   "source": []
  }
 ],
 "metadata": {
  "kernelspec": {
   "display_name": "Python 3",
   "language": "python",
   "name": "python3"
  },
  "language_info": {
   "codemirror_mode": {
    "name": "ipython",
    "version": 3
   },
   "file_extension": ".py",
   "mimetype": "text/x-python",
   "name": "python",
   "nbconvert_exporter": "python",
   "pygments_lexer": "ipython3",
   "version": "3.7.6"
  }
 },
 "nbformat": 4,
 "nbformat_minor": 4
}
