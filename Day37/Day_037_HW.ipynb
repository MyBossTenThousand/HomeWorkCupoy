{
 "cells": [
  {
   "cell_type": "code",
   "execution_count": 1,
   "metadata": {},
   "outputs": [
    {
     "name": "stdout",
     "output_type": "stream",
     "text": [
      "Q：線性回歸模型能夠準確預測非線性關係的資料集嗎?\n",
      "A：不能~\n",
      "Q：回歸模型是否對資料分布有基本假設\n",
      "A：有~\n"
     ]
    }
   ],
   "source": [
    "print(\"Q：線性回歸模型能夠準確預測非線性關係的資料集嗎?\")\n",
    "print(\"A：不能~\")\n",
    "print(\"Q：回歸模型是否對資料分布有基本假設\")\n",
    "print(\"A：有~\")"
   ]
  },
  {
   "cell_type": "code",
   "execution_count": null,
   "metadata": {},
   "outputs": [],
   "source": []
  }
 ],
 "metadata": {
  "kernelspec": {
   "display_name": "Python 3",
   "language": "python",
   "name": "python3"
  },
  "language_info": {
   "codemirror_mode": {
    "name": "ipython",
    "version": 3
   },
   "file_extension": ".py",
   "mimetype": "text/x-python",
   "name": "python",
   "nbconvert_exporter": "python",
   "pygments_lexer": "ipython3",
   "version": "3.7.6"
  }
 },
 "nbformat": 4,
 "nbformat_minor": 4
}
