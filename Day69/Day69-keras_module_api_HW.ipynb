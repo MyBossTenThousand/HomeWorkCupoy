{
 "cells": [
  {
   "cell_type": "code",
   "execution_count": 29,
   "metadata": {},
   "outputs": [],
   "source": [
    "'''\n",
    "請參考範例程式碼Day69-keras_module_api，請修改 Name 中，\n",
    "自定義的 Layer 名稱增加一層全連階層宣告 MODEL API，分別採用自行定義的 Input/Output Layer model.summary 查看 Layers stack。\n",
    "作業請提交Day69-keras_module_api_HW\n",
    "'''\n",
    "from keras.layers import Input, Embedding, LSTM, Dense\n",
    "from keras.models import Model\n",
    "\n",
    "#主要輸入接收新聞標題本身，即一個整數序列（每個整數編碼一個詞）。\n",
    "#這些整數在1 到10,000 之間（10,000 個詞的詞彙表），且序列長度為100 個詞\n",
    "#宣告一個 NAME 去定義Input\n",
    "main_input = Input(shape=(100,), dtype='int32', name='main_input')\n",
    "\n",
    "\n",
    "# Embedding 層將輸入序列編碼為一個稠密向量的序列，\n",
    "# 每個向量維度為 512。\n",
    "x = Embedding(output_dim=512, input_dim=10000, input_length=100)(main_input)\n",
    "\n",
    "# LSTM 層把向量序列轉換成單個向量，\n",
    "# 它包含整個序列的上下文信息\n",
    "lstm_out = LSTM(32)(x)"
   ]
  },
  {
   "cell_type": "code",
   "execution_count": 34,
   "metadata": {},
   "outputs": [],
   "source": [
    "#插入輔助損失，使得即使在模型主損失很高的情況下，LSTM 層和Embedding 層都能被平穩地訓練\n",
    "aux_output = Dense(1, activation='sigmoid', name='aux_out')(lstm_out)\n",
    "news_output = Dense(1, activation='sigmoid', name='news_output')(lstm_out)"
   ]
  },
  {
   "cell_type": "code",
   "execution_count": 35,
   "metadata": {},
   "outputs": [],
   "source": [
    "#輔助輸入數據與LSTM 層的輸出連接起來，輸入到模型\n",
    "import keras\n",
    "aux_input = Input(shape=(5,), name='aux_in')\n",
    "news_input = Input(shape=(5,), name='new_in')\n",
    "x = keras.layers.concatenate([lstm_out, news_input])\n",
    "\n",
    "\n",
    "# 堆疊多個全連接網路層\n",
    "x = Dense(64, activation='relu')(x)\n",
    "x = Dense(64, activation='relu')(x)\n",
    "#作業解答: 新增兩層\n",
    "x = Dense(64, activation='relu')(x)\n",
    "x = Dense(64, activation='relu')(x)\n",
    "\n",
    "# 最後添加主要的邏輯回歸層\n",
    "main_output = Dense(1, activation='sigmoid', name='main_output')(x)"
   ]
  },
  {
   "cell_type": "code",
   "execution_count": 36,
   "metadata": {},
   "outputs": [],
   "source": [
    "#model = Model(inputs=[main_input, aux_input], outputs=[main_output, aux_output])\n",
    "model_HW = Model(inputs=[main_input, news_input], outputs=[main_output, news_output])"
   ]
  },
  {
   "cell_type": "code",
   "execution_count": 37,
   "metadata": {},
   "outputs": [],
   "source": [
    "'''\n",
    "model.compile(optimizer='rmsprop',\n",
    "              loss={'main_output': 'binary_crossentropy', 'aux_out': 'binary_crossentropy'},\n",
    "              loss_weights={'main_output': 1., 'aux_out': 0.2})\n",
    "'''\n",
    "model_HW.compile(optimizer='rmsprop',\n",
    "              loss={'main_output': 'binary_crossentropy', 'news_output': 'binary_crossentropy'},\n",
    "              loss_weights={'main_output': 1., 'news_output': 0.2})"
   ]
  },
  {
   "cell_type": "code",
   "execution_count": 38,
   "metadata": {},
   "outputs": [
    {
     "name": "stdout",
     "output_type": "stream",
     "text": [
      "Model: \"model_6\"\n",
      "__________________________________________________________________________________________________\n",
      "Layer (type)                    Output Shape         Param #     Connected to                     \n",
      "==================================================================================================\n",
      "main_input (InputLayer)         (None, 100)          0                                            \n",
      "__________________________________________________________________________________________________\n",
      "embedding_5 (Embedding)         (None, 100, 512)     5120000     main_input[0][0]                 \n",
      "__________________________________________________________________________________________________\n",
      "lstm_5 (LSTM)                   (None, 32)           69760       embedding_5[0][0]                \n",
      "__________________________________________________________________________________________________\n",
      "new_in (InputLayer)             (None, 5)            0                                            \n",
      "__________________________________________________________________________________________________\n",
      "concatenate_7 (Concatenate)     (None, 37)           0           lstm_5[0][0]                     \n",
      "                                                                 new_in[0][0]                     \n",
      "__________________________________________________________________________________________________\n",
      "dense_25 (Dense)                (None, 64)           2432        concatenate_7[0][0]              \n",
      "__________________________________________________________________________________________________\n",
      "dense_26 (Dense)                (None, 64)           4160        dense_25[0][0]                   \n",
      "__________________________________________________________________________________________________\n",
      "dense_27 (Dense)                (None, 64)           4160        dense_26[0][0]                   \n",
      "__________________________________________________________________________________________________\n",
      "dense_28 (Dense)                (None, 64)           4160        dense_27[0][0]                   \n",
      "__________________________________________________________________________________________________\n",
      "main_output (Dense)             (None, 1)            65          dense_28[0][0]                   \n",
      "__________________________________________________________________________________________________\n",
      "news_output (Dense)             (None, 1)            33          lstm_5[0][0]                     \n",
      "==================================================================================================\n",
      "Total params: 5,204,770\n",
      "Trainable params: 5,204,770\n",
      "Non-trainable params: 0\n",
      "__________________________________________________________________________________________________\n"
     ]
    }
   ],
   "source": [
    "model_HW.summary()"
   ]
  },
  {
   "cell_type": "code",
   "execution_count": null,
   "metadata": {},
   "outputs": [],
   "source": []
  }
 ],
 "metadata": {
  "kernelspec": {
   "display_name": "Python 3",
   "language": "python",
   "name": "python3"
  },
  "language_info": {
   "codemirror_mode": {
    "name": "ipython",
    "version": 3
   },
   "file_extension": ".py",
   "mimetype": "text/x-python",
   "name": "python",
   "nbconvert_exporter": "python",
   "pygments_lexer": "ipython3",
   "version": "3.7.6"
  }
 },
 "nbformat": 4,
 "nbformat_minor": 4
}
